{
  "cells": [
    {
      "cell_type": "markdown",
      "metadata": {
        "id": "54b33632-e9ad-492a-bfc7-0d4c4d8ae114"
      },
      "source": [
        "<p style=\"text-align:center\">\n",
        "    <a href=\"https://skills.network\" target=\"_blank\">\n",
        "    <img src=\"https://cf-courses-data.s3.us.cloud-object-storage.appdomain.cloud/assets/logos/SN_web_lightmode.png\" width=\"200\" alt=\"Skills Network Logo\"  />\n",
        "    </a>\n",
        "</p>\n"
      ]
    },
    {
      "cell_type": "markdown",
      "metadata": {
        "id": "442557c0-6268-4386-93c7-5848003600d7"
      },
      "source": [
        "# **Lab: Creating Custom Layers and Models**\n",
        "\n",
        "###### Estimated time needed:  30 minutes  \n",
        "\n",
        "In this lab, you will learn to create custom layers and integrate them into a Keras model. You will compile, train, and evaluate the model.\n",
        "\n",
        "##### Learning objectives\n",
        "\n",
        "By the end of this lab, you will:\n",
        "- Create custom layers and integrate them into a Keras model\n",
        "- Compile, train, and evaluate the model\n",
        "\n",
        "##### Prerequisites:\n",
        "- Basic understanding of Python and Keras.\n"
      ]
    },
    {
      "cell_type": "markdown",
      "metadata": {
        "id": "fc7aa364-e60b-4e0c-8c94-1f50ad4402c1"
      },
      "source": [
        "#### Steps\n",
        "\n",
        "**Step 1: Install and Import libraries**\n",
        "\n",
        "Before you start, import the required libraries: TensorFlow and Keras. Keras is included within TensorFlow as `tensorflow.keras`.\n"
      ]
    },
    {
      "cell_type": "code",
      "metadata": {
        "id": "03321ca7-01d6-461c-8420-ed3628af3159",
        "outputId": "9a546bce-e817-413b-c591-3f762291af14",
        "colab": {
          "base_uri": "https://localhost:8080/"
        }
      },
      "outputs": [
        {
          "output_type": "stream",
          "name": "stdout",
          "text": [
            "Requirement already satisfied: pydot in /usr/local/lib/python3.12/dist-packages (3.0.4)\n",
            "Requirement already satisfied: graphviz in /usr/local/lib/python3.12/dist-packages (0.21)\n",
            "Requirement already satisfied: pyparsing>=3.0.9 in /usr/local/lib/python3.12/dist-packages (from pydot) (3.2.5)\n"
          ]
        }
      ],
      "source": [
        "#!pip install tensorflow==2.16.2\n",
        "!pip install pydot graphviz"
      ],
      "execution_count": 1
    },
    {
      "cell_type": "markdown",
      "metadata": {
        "id": "65019967-622f-42e3-ac14-3dbfe5246202"
      },
      "source": [
        "#### After installing the libraries, restart the kernel and then run the cells below\n"
      ]
    },
    {
      "cell_type": "code",
      "metadata": {
        "id": "13c5f26c-a0a7-4434-abe9-16e4cac5d5fd"
      },
      "outputs": [],
      "source": [
        "import tensorflow as tf\n",
        "from tensorflow.keras.layers import Layer\n",
        "from tensorflow.keras.models import Sequential"
      ],
      "execution_count": 1
    },
    {
      "cell_type": "markdown",
      "metadata": {
        "id": "63b10ba3-a71d-4c43-a383-2ff14d43b91a"
      },
      "source": [
        "**Step 2: Define a custom layer**\n",
        "\n",
        "Define a custom dense layer with 32 units and ReLU activation.\n"
      ]
    },
    {
      "cell_type": "code",
      "metadata": {
        "id": "82506cd3-cb83-4caa-be96-9206d5c33a17"
      },
      "outputs": [],
      "source": [
        "class CustomDenseLayer(Layer):\n",
        "    def __init__(self, units=32):\n",
        "        super(CustomDenseLayer, self).__init__()\n",
        "        self.units = units\n",
        "\n",
        "    def build(self, input_shape):\n",
        "        self.w = self.add_weight(shape=(input_shape[-1], self.units),\n",
        "                                 initializer='random_normal',\n",
        "                                 trainable=True)\n",
        "        self.b = self.add_weight(shape=(self.units,),\n",
        "                                 initializer='zeros',\n",
        "                                 trainable=True)\n",
        "    def call(self, inputs):\n",
        "        return tf.nn.relu(tf.matmul(inputs, self.w) + self.b)\n"
      ],
      "execution_count": 2
    },
    {
      "cell_type": "markdown",
      "metadata": {
        "id": "bc729691-f952-4fd6-bd73-2a691fbd1626"
      },
      "source": [
        "**Step 3: Integrate the custom layer into a model**\n",
        "\n",
        "Create a Keras model using the custom layer.\n"
      ]
    },
    {
      "cell_type": "code",
      "metadata": {
        "id": "2184ae3a-88ef-47cc-8a91-4db766f479b2"
      },
      "outputs": [],
      "source": [
        "from tensorflow.keras.layers import Softmax\n",
        "\n",
        "# Define the model with Softmax in the output layer\n",
        "model = Sequential([\n",
        "    CustomDenseLayer(128),\n",
        "    CustomDenseLayer(10),  # Hidden layer with ReLU activation\n",
        "    Softmax()              # Output layer with Softmax activation for multi-class classification\n",
        "])\n"
      ],
      "execution_count": 3
    },
    {
      "cell_type": "markdown",
      "metadata": {
        "id": "082012c8-c193-45ff-9c3e-e479329c7d95"
      },
      "source": [
        "The **Softmax** activation function is used in the output layer for multi-class classification tasks, ensuring the model outputs probabilities that sum up to 1 for each class, which aligns with categorical cross-entropy as the loss function. This adjustment ensures the model is optimized correctly for multi-class classification.\n"
      ]
    },
    {
      "cell_type": "markdown",
      "metadata": {
        "id": "57b01a4a-82a0-42e6-a045-ed3d871edc11"
      },
      "source": [
        "**Step 4: Compile the model**\n",
        "\n",
        "Compile the model with the Adam optimizer and categorical cross-entropy loss.\n"
      ]
    },
    {
      "cell_type": "code",
      "metadata": {
        "id": "bf2b3adb-5269-4cbf-b7d1-4f60dfa8723e",
        "outputId": "8b63f1de-bba1-4e70-82c8-9ea8cac48a51",
        "colab": {
          "base_uri": "https://localhost:8080/",
          "height": 549
        }
      },
      "outputs": [
        {
          "output_type": "stream",
          "name": "stdout",
          "text": [
            "Model summary before building:\n"
          ]
        },
        {
          "output_type": "display_data",
          "data": {
            "text/plain": [
              "\u001b[1mModel: \"sequential\"\u001b[0m\n"
            ],
            "text/html": [
              "<pre style=\"white-space:pre;overflow-x:auto;line-height:normal;font-family:Menlo,'DejaVu Sans Mono',consolas,'Courier New',monospace\"><span style=\"font-weight: bold\">Model: \"sequential\"</span>\n",
              "</pre>\n"
            ]
          },
          "metadata": {}
        },
        {
          "output_type": "display_data",
          "data": {
            "text/plain": [
              "┏━━━━━━━━━━━━━━━━━━━━━━━━━━━━━━━━━┳━━━━━━━━━━━━━━━━━━━━━━━━┳━━━━━━━━━━━━━━━┓\n",
              "┃\u001b[1m \u001b[0m\u001b[1mLayer (type)                   \u001b[0m\u001b[1m \u001b[0m┃\u001b[1m \u001b[0m\u001b[1mOutput Shape          \u001b[0m\u001b[1m \u001b[0m┃\u001b[1m \u001b[0m\u001b[1m      Param #\u001b[0m\u001b[1m \u001b[0m┃\n",
              "┡━━━━━━━━━━━━━━━━━━━━━━━━━━━━━━━━━╇━━━━━━━━━━━━━━━━━━━━━━━━╇━━━━━━━━━━━━━━━┩\n",
              "│ custom_dense_layer              │ ?                      │   \u001b[38;5;34m0\u001b[0m (unbuilt) │\n",
              "│ (\u001b[38;5;33mCustomDenseLayer\u001b[0m)              │                        │               │\n",
              "├─────────────────────────────────┼────────────────────────┼───────────────┤\n",
              "│ custom_dense_layer_1            │ ?                      │   \u001b[38;5;34m0\u001b[0m (unbuilt) │\n",
              "│ (\u001b[38;5;33mCustomDenseLayer\u001b[0m)              │                        │               │\n",
              "├─────────────────────────────────┼────────────────────────┼───────────────┤\n",
              "│ softmax (\u001b[38;5;33mSoftmax\u001b[0m)               │ ?                      │             \u001b[38;5;34m0\u001b[0m │\n",
              "└─────────────────────────────────┴────────────────────────┴───────────────┘\n"
            ],
            "text/html": [
              "<pre style=\"white-space:pre;overflow-x:auto;line-height:normal;font-family:Menlo,'DejaVu Sans Mono',consolas,'Courier New',monospace\">┏━━━━━━━━━━━━━━━━━━━━━━━━━━━━━━━━━┳━━━━━━━━━━━━━━━━━━━━━━━━┳━━━━━━━━━━━━━━━┓\n",
              "┃<span style=\"font-weight: bold\"> Layer (type)                    </span>┃<span style=\"font-weight: bold\"> Output Shape           </span>┃<span style=\"font-weight: bold\">       Param # </span>┃\n",
              "┡━━━━━━━━━━━━━━━━━━━━━━━━━━━━━━━━━╇━━━━━━━━━━━━━━━━━━━━━━━━╇━━━━━━━━━━━━━━━┩\n",
              "│ custom_dense_layer              │ ?                      │   <span style=\"color: #00af00; text-decoration-color: #00af00\">0</span> (unbuilt) │\n",
              "│ (<span style=\"color: #0087ff; text-decoration-color: #0087ff\">CustomDenseLayer</span>)              │                        │               │\n",
              "├─────────────────────────────────┼────────────────────────┼───────────────┤\n",
              "│ custom_dense_layer_1            │ ?                      │   <span style=\"color: #00af00; text-decoration-color: #00af00\">0</span> (unbuilt) │\n",
              "│ (<span style=\"color: #0087ff; text-decoration-color: #0087ff\">CustomDenseLayer</span>)              │                        │               │\n",
              "├─────────────────────────────────┼────────────────────────┼───────────────┤\n",
              "│ softmax (<span style=\"color: #0087ff; text-decoration-color: #0087ff\">Softmax</span>)               │ ?                      │             <span style=\"color: #00af00; text-decoration-color: #00af00\">0</span> │\n",
              "└─────────────────────────────────┴────────────────────────┴───────────────┘\n",
              "</pre>\n"
            ]
          },
          "metadata": {}
        },
        {
          "output_type": "display_data",
          "data": {
            "text/plain": [
              "\u001b[1m Total params: \u001b[0m\u001b[38;5;34m0\u001b[0m (0.00 B)\n"
            ],
            "text/html": [
              "<pre style=\"white-space:pre;overflow-x:auto;line-height:normal;font-family:Menlo,'DejaVu Sans Mono',consolas,'Courier New',monospace\"><span style=\"font-weight: bold\"> Total params: </span><span style=\"color: #00af00; text-decoration-color: #00af00\">0</span> (0.00 B)\n",
              "</pre>\n"
            ]
          },
          "metadata": {}
        },
        {
          "output_type": "display_data",
          "data": {
            "text/plain": [
              "\u001b[1m Trainable params: \u001b[0m\u001b[38;5;34m0\u001b[0m (0.00 B)\n"
            ],
            "text/html": [
              "<pre style=\"white-space:pre;overflow-x:auto;line-height:normal;font-family:Menlo,'DejaVu Sans Mono',consolas,'Courier New',monospace\"><span style=\"font-weight: bold\"> Trainable params: </span><span style=\"color: #00af00; text-decoration-color: #00af00\">0</span> (0.00 B)\n",
              "</pre>\n"
            ]
          },
          "metadata": {}
        },
        {
          "output_type": "display_data",
          "data": {
            "text/plain": [
              "\u001b[1m Non-trainable params: \u001b[0m\u001b[38;5;34m0\u001b[0m (0.00 B)\n"
            ],
            "text/html": [
              "<pre style=\"white-space:pre;overflow-x:auto;line-height:normal;font-family:Menlo,'DejaVu Sans Mono',consolas,'Courier New',monospace\"><span style=\"font-weight: bold\"> Non-trainable params: </span><span style=\"color: #00af00; text-decoration-color: #00af00\">0</span> (0.00 B)\n",
              "</pre>\n"
            ]
          },
          "metadata": {}
        },
        {
          "output_type": "stream",
          "name": "stdout",
          "text": [
            "\n",
            "Model summary after building:\n"
          ]
        },
        {
          "output_type": "display_data",
          "data": {
            "text/plain": [
              "\u001b[1mModel: \"sequential\"\u001b[0m\n"
            ],
            "text/html": [
              "<pre style=\"white-space:pre;overflow-x:auto;line-height:normal;font-family:Menlo,'DejaVu Sans Mono',consolas,'Courier New',monospace\"><span style=\"font-weight: bold\">Model: \"sequential\"</span>\n",
              "</pre>\n"
            ]
          },
          "metadata": {}
        },
        {
          "output_type": "display_data",
          "data": {
            "text/plain": [
              "┏━━━━━━━━━━━━━━━━━━━━━━━━━━━━━━━━━┳━━━━━━━━━━━━━━━━━━━━━━━━┳━━━━━━━━━━━━━━━┓\n",
              "┃\u001b[1m \u001b[0m\u001b[1mLayer (type)                   \u001b[0m\u001b[1m \u001b[0m┃\u001b[1m \u001b[0m\u001b[1mOutput Shape          \u001b[0m\u001b[1m \u001b[0m┃\u001b[1m \u001b[0m\u001b[1m      Param #\u001b[0m\u001b[1m \u001b[0m┃\n",
              "┡━━━━━━━━━━━━━━━━━━━━━━━━━━━━━━━━━╇━━━━━━━━━━━━━━━━━━━━━━━━╇━━━━━━━━━━━━━━━┩\n",
              "│ custom_dense_layer              │ (\u001b[38;5;34m1000\u001b[0m, \u001b[38;5;34m128\u001b[0m)            │         \u001b[38;5;34m2,688\u001b[0m │\n",
              "│ (\u001b[38;5;33mCustomDenseLayer\u001b[0m)              │                        │               │\n",
              "├─────────────────────────────────┼────────────────────────┼───────────────┤\n",
              "│ custom_dense_layer_1            │ (\u001b[38;5;34m1000\u001b[0m, \u001b[38;5;34m10\u001b[0m)             │         \u001b[38;5;34m1,290\u001b[0m │\n",
              "│ (\u001b[38;5;33mCustomDenseLayer\u001b[0m)              │                        │               │\n",
              "├─────────────────────────────────┼────────────────────────┼───────────────┤\n",
              "│ softmax (\u001b[38;5;33mSoftmax\u001b[0m)               │ (\u001b[38;5;34m1000\u001b[0m, \u001b[38;5;34m10\u001b[0m)             │             \u001b[38;5;34m0\u001b[0m │\n",
              "└─────────────────────────────────┴────────────────────────┴───────────────┘\n"
            ],
            "text/html": [
              "<pre style=\"white-space:pre;overflow-x:auto;line-height:normal;font-family:Menlo,'DejaVu Sans Mono',consolas,'Courier New',monospace\">┏━━━━━━━━━━━━━━━━━━━━━━━━━━━━━━━━━┳━━━━━━━━━━━━━━━━━━━━━━━━┳━━━━━━━━━━━━━━━┓\n",
              "┃<span style=\"font-weight: bold\"> Layer (type)                    </span>┃<span style=\"font-weight: bold\"> Output Shape           </span>┃<span style=\"font-weight: bold\">       Param # </span>┃\n",
              "┡━━━━━━━━━━━━━━━━━━━━━━━━━━━━━━━━━╇━━━━━━━━━━━━━━━━━━━━━━━━╇━━━━━━━━━━━━━━━┩\n",
              "│ custom_dense_layer              │ (<span style=\"color: #00af00; text-decoration-color: #00af00\">1000</span>, <span style=\"color: #00af00; text-decoration-color: #00af00\">128</span>)            │         <span style=\"color: #00af00; text-decoration-color: #00af00\">2,688</span> │\n",
              "│ (<span style=\"color: #0087ff; text-decoration-color: #0087ff\">CustomDenseLayer</span>)              │                        │               │\n",
              "├─────────────────────────────────┼────────────────────────┼───────────────┤\n",
              "│ custom_dense_layer_1            │ (<span style=\"color: #00af00; text-decoration-color: #00af00\">1000</span>, <span style=\"color: #00af00; text-decoration-color: #00af00\">10</span>)             │         <span style=\"color: #00af00; text-decoration-color: #00af00\">1,290</span> │\n",
              "│ (<span style=\"color: #0087ff; text-decoration-color: #0087ff\">CustomDenseLayer</span>)              │                        │               │\n",
              "├─────────────────────────────────┼────────────────────────┼───────────────┤\n",
              "│ softmax (<span style=\"color: #0087ff; text-decoration-color: #0087ff\">Softmax</span>)               │ (<span style=\"color: #00af00; text-decoration-color: #00af00\">1000</span>, <span style=\"color: #00af00; text-decoration-color: #00af00\">10</span>)             │             <span style=\"color: #00af00; text-decoration-color: #00af00\">0</span> │\n",
              "└─────────────────────────────────┴────────────────────────┴───────────────┘\n",
              "</pre>\n"
            ]
          },
          "metadata": {}
        },
        {
          "output_type": "display_data",
          "data": {
            "text/plain": [
              "\u001b[1m Total params: \u001b[0m\u001b[38;5;34m3,978\u001b[0m (15.54 KB)\n"
            ],
            "text/html": [
              "<pre style=\"white-space:pre;overflow-x:auto;line-height:normal;font-family:Menlo,'DejaVu Sans Mono',consolas,'Courier New',monospace\"><span style=\"font-weight: bold\"> Total params: </span><span style=\"color: #00af00; text-decoration-color: #00af00\">3,978</span> (15.54 KB)\n",
              "</pre>\n"
            ]
          },
          "metadata": {}
        },
        {
          "output_type": "display_data",
          "data": {
            "text/plain": [
              "\u001b[1m Trainable params: \u001b[0m\u001b[38;5;34m3,978\u001b[0m (15.54 KB)\n"
            ],
            "text/html": [
              "<pre style=\"white-space:pre;overflow-x:auto;line-height:normal;font-family:Menlo,'DejaVu Sans Mono',consolas,'Courier New',monospace\"><span style=\"font-weight: bold\"> Trainable params: </span><span style=\"color: #00af00; text-decoration-color: #00af00\">3,978</span> (15.54 KB)\n",
              "</pre>\n"
            ]
          },
          "metadata": {}
        },
        {
          "output_type": "display_data",
          "data": {
            "text/plain": [
              "\u001b[1m Non-trainable params: \u001b[0m\u001b[38;5;34m0\u001b[0m (0.00 B)\n"
            ],
            "text/html": [
              "<pre style=\"white-space:pre;overflow-x:auto;line-height:normal;font-family:Menlo,'DejaVu Sans Mono',consolas,'Courier New',monospace\"><span style=\"font-weight: bold\"> Non-trainable params: </span><span style=\"color: #00af00; text-decoration-color: #00af00\">0</span> (0.00 B)\n",
              "</pre>\n"
            ]
          },
          "metadata": {}
        }
      ],
      "source": [
        "model.compile(optimizer='adam', loss='categorical_crossentropy')\n",
        "print(\"Model summary before building:\")\n",
        "model.summary()\n",
        "\n",
        "# Build the model to show parameters\n",
        "model.build((1000, 20))\n",
        "print(\"\\nModel summary after building:\")\n",
        "model.summary()\n"
      ],
      "execution_count": 4
    },
    {
      "cell_type": "markdown",
      "metadata": {
        "id": "e6ec8b5e-e959-4c90-80f5-af4320e7e9ba"
      },
      "source": [
        "**Step 5: Train the model**\n",
        "\n",
        "Train the model on some example data. For this example, you will generate random data for training. In practice, use a real data set.\n"
      ]
    },
    {
      "cell_type": "code",
      "metadata": {
        "id": "fc7bcac5-d4aa-427a-801c-c1b2fbabb4b6",
        "outputId": "eb53cf89-4ee9-46a5-9098-8c7d7b24ee34",
        "colab": {
          "base_uri": "https://localhost:8080/"
        }
      },
      "outputs": [
        {
          "output_type": "stream",
          "name": "stdout",
          "text": [
            "Epoch 1/10\n",
            "\u001b[1m32/32\u001b[0m \u001b[32m━━━━━━━━━━━━━━━━━━━━\u001b[0m\u001b[37m\u001b[0m \u001b[1m3s\u001b[0m 29ms/step - loss: 2.3012\n",
            "Epoch 2/10\n",
            "\u001b[1m32/32\u001b[0m \u001b[32m━━━━━━━━━━━━━━━━━━━━\u001b[0m\u001b[37m\u001b[0m \u001b[1m0s\u001b[0m 3ms/step - loss: 2.2994\n",
            "Epoch 3/10\n",
            "\u001b[1m32/32\u001b[0m \u001b[32m━━━━━━━━━━━━━━━━━━━━\u001b[0m\u001b[37m\u001b[0m \u001b[1m0s\u001b[0m 3ms/step - loss: 2.2962\n",
            "Epoch 4/10\n",
            "\u001b[1m32/32\u001b[0m \u001b[32m━━━━━━━━━━━━━━━━━━━━\u001b[0m\u001b[37m\u001b[0m \u001b[1m0s\u001b[0m 2ms/step - loss: 2.2976\n",
            "Epoch 5/10\n",
            "\u001b[1m32/32\u001b[0m \u001b[32m━━━━━━━━━━━━━━━━━━━━\u001b[0m\u001b[37m\u001b[0m \u001b[1m0s\u001b[0m 2ms/step - loss: 2.2983\n",
            "Epoch 6/10\n",
            "\u001b[1m32/32\u001b[0m \u001b[32m━━━━━━━━━━━━━━━━━━━━\u001b[0m\u001b[37m\u001b[0m \u001b[1m0s\u001b[0m 3ms/step - loss: 2.2946\n",
            "Epoch 7/10\n",
            "\u001b[1m32/32\u001b[0m \u001b[32m━━━━━━━━━━━━━━━━━━━━\u001b[0m\u001b[37m\u001b[0m \u001b[1m0s\u001b[0m 2ms/step - loss: 2.2926\n",
            "Epoch 8/10\n",
            "\u001b[1m32/32\u001b[0m \u001b[32m━━━━━━━━━━━━━━━━━━━━\u001b[0m\u001b[37m\u001b[0m \u001b[1m0s\u001b[0m 2ms/step - loss: 2.2879\n",
            "Epoch 9/10\n",
            "\u001b[1m32/32\u001b[0m \u001b[32m━━━━━━━━━━━━━━━━━━━━\u001b[0m\u001b[37m\u001b[0m \u001b[1m0s\u001b[0m 2ms/step - loss: 2.2790\n",
            "Epoch 10/10\n",
            "\u001b[1m32/32\u001b[0m \u001b[32m━━━━━━━━━━━━━━━━━━━━\u001b[0m\u001b[37m\u001b[0m \u001b[1m0s\u001b[0m 2ms/step - loss: 2.2843\n"
          ]
        },
        {
          "output_type": "execute_result",
          "data": {
            "text/plain": [
              "<keras.src.callbacks.history.History at 0x7e8b1db6b560>"
            ]
          },
          "metadata": {},
          "execution_count": 5
        }
      ],
      "source": [
        "import numpy as np\n",
        "\n",
        "# Generate random data\n",
        "x_train = np.random.random((1000, 20))\n",
        "y_train = np.random.randint(10, size=(1000, 1))\n",
        "\n",
        "# Convert labels to categorical one-hot encoding\n",
        "y_train = tf.keras.utils.to_categorical(y_train, num_classes=10)\n",
        "model.fit(x_train, y_train, epochs=10, batch_size=32)"
      ],
      "execution_count": 5
    },
    {
      "cell_type": "markdown",
      "metadata": {
        "id": "8a298950-fbd8-4c3f-b927-0b5f4dcc3c40"
      },
      "source": [
        "**Step 6: Evaluate the model**\n",
        "\n",
        "Evaluate the model using test data to see its performance.\n",
        "\n",
        "For this example, you will generate random test data. In practice, use a real data set.\n"
      ]
    },
    {
      "cell_type": "code",
      "metadata": {
        "id": "b0329b78-5585-4bbb-976d-6eb83c9203d5",
        "outputId": "9169f0a9-477f-4342-a7ce-bd7436abc8bb",
        "colab": {
          "base_uri": "https://localhost:8080/"
        }
      },
      "outputs": [
        {
          "output_type": "stream",
          "name": "stdout",
          "text": [
            "\u001b[1m7/7\u001b[0m \u001b[32m━━━━━━━━━━━━━━━━━━━━\u001b[0m\u001b[37m\u001b[0m \u001b[1m1s\u001b[0m 38ms/step - loss: 2.3057\n",
            "Test loss: 2.3015823364257812\n"
          ]
        }
      ],
      "source": [
        "# Generate random test data\n",
        "x_test = np.random.random((200, 20))\n",
        "y_test = np.random.randint(10, size=(200, 1))\n",
        "\n",
        "# Convert labels to categorical one-hot encoding\n",
        "y_test = tf.keras.utils.to_categorical(y_test, num_classes=10)\n",
        "\n",
        "# Evaluate the model\n",
        "loss = model.evaluate(x_test, y_test)\n",
        "print(f'Test loss: {loss}')"
      ],
      "execution_count": 6
    },
    {
      "cell_type": "markdown",
      "metadata": {
        "id": "0deeb25f-26f8-4e3a-aedb-9c4a9e87bb83"
      },
      "source": [
        "### Exercises\n"
      ]
    },
    {
      "cell_type": "markdown",
      "metadata": {
        "id": "6cd729da-7ddf-4793-8dea-ec3a6d1c2c21"
      },
      "source": [
        "#### Exercise 1: Visualize Model Architecture\n",
        "\n",
        "**Objective:** Visualize the architecture of the custom Keras model to understand its structure.\n",
        "\n",
        "**Instructions:**\n",
        "1. Use the `plot_model` function from `tensorflow.keras.utils` to visualize the model architecture.\n",
        "2. Save the plot as an image file.\n"
      ]
    },
    {
      "cell_type": "code",
      "metadata": {
        "id": "cf01f92f-bbe4-4d8c-8df3-77c066880869",
        "outputId": "d844deb1-9419-473b-e651-0b30f56f0fa5",
        "colab": {
          "base_uri": "https://localhost:8080/",
          "height": 460
        }
      },
      "outputs": [
        {
          "output_type": "execute_result",
          "data": {
            "image/png": "[encoded data removed]",
            "text/plain": [
              "<IPython.core.display.Image object>"
            ]
          },
          "metadata": {},
          "execution_count": 7
        }
      ],
      "source": [
        "from tensorflow.keras.utils import plot_model\n",
        "from IPython.display import Image\n",
        "\n",
        "plot_model(\n",
        "    model,\n",
        "    to_file='model_architecture.png',\n",
        "    show_shapes=True,\n",
        "    show_layer_names=True,\n",
        "    dpi=96\n",
        ")\n",
        "\n",
        "# Display the saved image in the notebook\n",
        "Image(filename='model_architecture.png')\n"
      ],
      "execution_count": 7
    },
    {
      "cell_type": "markdown",
      "metadata": {
        "id": "971fa38a-c069-4f28-bff9-776008ae8050"
      },
      "source": [
        "<details>\n",
        "    <summary>Click here for Solution</summary>\n",
        "\n",
        "```python\n",
        "\n",
        "from tensorflow.keras.utils import plot_model\n",
        "\n",
        "# Visualize the model architecture\n",
        "plot_model(model, to_file='model_architecture.png', show_shapes=True, show_layer_names=True)\n",
        "\n",
        "\n",
        " ```   \n",
        "\n",
        "</details>\n"
      ]
    },
    {
      "cell_type": "markdown",
      "metadata": {
        "id": "943d1249-1ab4-48e0-a0ed-4384230d686d"
      },
      "source": [
        "#### Exercise 2: Add Dropout Layer\n",
        "\n",
        "**Objective:** Enhance the model by adding a Dropout layer to prevent overfitting.\n",
        "\n",
        "**Instructions:**\n",
        "1. Add a Dropout layer between the custom dense layers.\n",
        "2. Recompile the model and observe the impact on training.\n"
      ]
    },
    {
      "cell_type": "code",
      "metadata": {
        "id": "633cef8f-09ed-46b3-a2d1-32115ee163fd",
        "outputId": "ac53034e-fade-4e39-ddf1-bcac5ba04ac9",
        "colab": {
          "base_uri": "https://localhost:8080/"
        }
      },
      "outputs": [
        {
          "output_type": "stream",
          "name": "stdout",
          "text": [
            "Epoch 1/10\n",
            "\u001b[1m32/32\u001b[0m \u001b[32m━━━━━━━━━━━━━━━━━━━━\u001b[0m\u001b[37m\u001b[0m \u001b[1m3s\u001b[0m 35ms/step - loss: 2.3035\n",
            "Epoch 2/10\n",
            "\u001b[1m32/32\u001b[0m \u001b[32m━━━━━━━━━━━━━━━━━━━━\u001b[0m\u001b[37m\u001b[0m \u001b[1m0s\u001b[0m 3ms/step - loss: 2.3019\n",
            "Epoch 3/10\n",
            "\u001b[1m32/32\u001b[0m \u001b[32m━━━━━━━━━━━━━━━━━━━━\u001b[0m\u001b[37m\u001b[0m \u001b[1m0s\u001b[0m 3ms/step - loss: 2.3019\n",
            "Epoch 4/10\n",
            "\u001b[1m32/32\u001b[0m \u001b[32m━━━━━━━━━━━━━━━━━━━━\u001b[0m\u001b[37m\u001b[0m \u001b[1m0s\u001b[0m 3ms/step - loss: 2.3023\n",
            "Epoch 5/10\n",
            "\u001b[1m32/32\u001b[0m \u001b[32m━━━━━━━━━━━━━━━━━━━━\u001b[0m\u001b[37m\u001b[0m \u001b[1m0s\u001b[0m 2ms/step - loss: 2.3023\n",
            "Epoch 6/10\n",
            "\u001b[1m32/32\u001b[0m \u001b[32m━━━━━━━━━━━━━━━━━━━━\u001b[0m\u001b[37m\u001b[0m \u001b[1m0s\u001b[0m 3ms/step - loss: 2.3016\n",
            "Epoch 7/10\n",
            "\u001b[1m32/32\u001b[0m \u001b[32m━━━━━━━━━━━━━━━━━━━━\u001b[0m\u001b[37m\u001b[0m \u001b[1m0s\u001b[0m 3ms/step - loss: 2.3005\n",
            "Epoch 8/10\n",
            "\u001b[1m32/32\u001b[0m \u001b[32m━━━━━━━━━━━━━━━━━━━━\u001b[0m\u001b[37m\u001b[0m \u001b[1m0s\u001b[0m 3ms/step - loss: 2.3023\n",
            "Epoch 9/10\n",
            "\u001b[1m32/32\u001b[0m \u001b[32m━━━━━━━━━━━━━━━━━━━━\u001b[0m\u001b[37m\u001b[0m \u001b[1m0s\u001b[0m 3ms/step - loss: 2.2997\n",
            "Epoch 10/10\n",
            "\u001b[1m32/32\u001b[0m \u001b[32m━━━━━━━━━━━━━━━━━━━━\u001b[0m\u001b[37m\u001b[0m \u001b[1m0s\u001b[0m 3ms/step - loss: 2.2988\n",
            "\u001b[1m7/7\u001b[0m \u001b[32m━━━━━━━━━━━━━━━━━━━━\u001b[0m\u001b[37m\u001b[0m \u001b[1m1s\u001b[0m 39ms/step - loss: 2.3011\n",
            "Loss: 2.2993600368499756\n"
          ]
        }
      ],
      "source": [
        "from tensorflow.keras.layers import Layer, Dropout, Softmax\n",
        "from tensorflow.keras.models import Sequential\n",
        "\n",
        "class MyCustomLayer(Layer):\n",
        "  def __init__(self, units=32):\n",
        "      super(MyCustomLayer, self).__init__()\n",
        "      self.units = units\n",
        "\n",
        "  def build(self, input_shape):\n",
        "    self.w = self.add_weight(\n",
        "        shape=(input_shape[-1], self.units),\n",
        "        initializer = 'random_normal',\n",
        "        trainable = True\n",
        "    )\n",
        "    self.b = self.add_weight(\n",
        "        shape = (self.units,),\n",
        "        initializer = 'zeros',\n",
        "        trainable = True\n",
        "    )\n",
        "\n",
        "  def call(self, input):\n",
        "    return tf.nn.relu(tf.matmul(input, self.w) + self.b)\n",
        "\n",
        "model = Sequential([\n",
        "    MyCustomLayer(64),\n",
        "    Dropout(rate=0.5),\n",
        "    MyCustomLayer(10),\n",
        "    Softmax()]\n",
        ")\n",
        "\n",
        "model.compile(optimizer='adam', loss='categorical_crossentropy')\n",
        "model.fit(x_train, y_train, epochs = 10, batch_size= 32)\n",
        "loss = model.evaluate(x_test, y_test)\n",
        "print(f\"Loss: {loss}\")\n"
      ],
      "execution_count": 18
    },
    {
      "cell_type": "markdown",
      "metadata": {
        "id": "52fd649c-e754-41f8-869a-196a90a783df"
      },
      "source": [
        "<details>\n",
        "    <summary>Click here for Solution</summary>\n",
        "\n",
        "```python\n",
        "\n",
        "from tensorflow.keras.layers import Dropout\n",
        "\n",
        "# Modify the model to include a Dropout layer\n",
        "model = Sequential([\n",
        "    CustomDenseLayer(64),\n",
        "    Dropout(0.5),\n",
        "    CustomDenseLayer(10)\n",
        "])\n",
        "\n",
        "# Recompile the model\n",
        "model.compile(optimizer='adam', loss='categorical_crossentropy')\n",
        "\n",
        "# Train the model again\n",
        "model.fit(x_train, y_train, epochs=10, batch_size=32)\n",
        " ```   \n",
        "\n",
        "</details>\n"
      ]
    },
    {
      "cell_type": "markdown",
      "metadata": {
        "id": "79985829-5f29-499a-a03c-dd997d4050bd"
      },
      "source": [
        "#### Exercise 3: Adjust the Number of Units in Custom Layer\n",
        "\n",
        "**Objective:** Experiment with different numbers of units in the custom dense layer to observe the impact on performance.\n",
        "\n",
        "**Instructions:**\n",
        "1. Change the number of units in the `CustomDenseLayer` to 128.\n",
        "2. Recompile, train, and evaluate the model.\n"
      ]
    },
    {
      "cell_type": "code",
      "metadata": {
        "id": "ae1266d1-f314-4962-b19e-6d5b63418365",
        "outputId": "077b25da-dc02-4d84-d9ad-ef877b8d6aaf",
        "colab": {
          "base_uri": "https://localhost:8080/"
        }
      },
      "outputs": [
        {
          "output_type": "stream",
          "name": "stdout",
          "text": [
            "Epoch 1/10\n",
            "\u001b[1m32/32\u001b[0m \u001b[32m━━━━━━━━━━━━━━━━━━━━\u001b[0m\u001b[37m\u001b[0m \u001b[1m2s\u001b[0m 28ms/step - loss: 2.3062\n",
            "Epoch 2/10\n",
            "\u001b[1m32/32\u001b[0m \u001b[32m━━━━━━━━━━━━━━━━━━━━\u001b[0m\u001b[37m\u001b[0m \u001b[1m0s\u001b[0m 3ms/step - loss: 2.3031\n",
            "Epoch 3/10\n",
            "\u001b[1m32/32\u001b[0m \u001b[32m━━━━━━━━━━━━━━━━━━━━\u001b[0m\u001b[37m\u001b[0m \u001b[1m0s\u001b[0m 3ms/step - loss: 2.3034\n",
            "Epoch 4/10\n",
            "\u001b[1m32/32\u001b[0m \u001b[32m━━━━━━━━━━━━━━━━━━━━\u001b[0m\u001b[37m\u001b[0m \u001b[1m0s\u001b[0m 3ms/step - loss: 2.3020\n",
            "Epoch 5/10\n",
            "\u001b[1m32/32\u001b[0m \u001b[32m━━━━━━━━━━━━━━━━━━━━\u001b[0m\u001b[37m\u001b[0m \u001b[1m0s\u001b[0m 3ms/step - loss: 2.3016\n",
            "Epoch 6/10\n",
            "\u001b[1m32/32\u001b[0m \u001b[32m━━━━━━━━━━━━━━━━━━━━\u001b[0m\u001b[37m\u001b[0m \u001b[1m0s\u001b[0m 2ms/step - loss: 2.3016\n",
            "Epoch 7/10\n",
            "\u001b[1m32/32\u001b[0m \u001b[32m━━━━━━━━━━━━━━━━━━━━\u001b[0m\u001b[37m\u001b[0m \u001b[1m0s\u001b[0m 3ms/step - loss: 2.3003\n",
            "Epoch 8/10\n",
            "\u001b[1m32/32\u001b[0m \u001b[32m━━━━━━━━━━━━━━━━━━━━\u001b[0m\u001b[37m\u001b[0m \u001b[1m0s\u001b[0m 2ms/step - loss: 2.3013\n",
            "Epoch 9/10\n",
            "\u001b[1m32/32\u001b[0m \u001b[32m━━━━━━━━━━━━━━━━━━━━\u001b[0m\u001b[37m\u001b[0m \u001b[1m0s\u001b[0m 3ms/step - loss: 2.2968\n",
            "Epoch 10/10\n",
            "\u001b[1m32/32\u001b[0m \u001b[32m━━━━━━━━━━━━━━━━━━━━\u001b[0m\u001b[37m\u001b[0m \u001b[1m0s\u001b[0m 3ms/step - loss: 2.2955\n",
            "\u001b[1m7/7\u001b[0m \u001b[32m━━━━━━━━━━━━━━━━━━━━\u001b[0m\u001b[37m\u001b[0m \u001b[1m1s\u001b[0m 56ms/step - loss: 2.3004\n",
            "Loss: 2.297708511352539\n"
          ]
        }
      ],
      "source": [
        "model = Sequential([\n",
        "    MyCustomLayer(128),\n",
        "    Dropout(rate=0.5),\n",
        "    MyCustomLayer(10),\n",
        "    Softmax()]\n",
        ")\n",
        "\n",
        "model.compile(optimizer='adam', loss='categorical_crossentropy')\n",
        "model.fit(x_train, y_train, epochs = 10, batch_size= 32)\n",
        "loss = model.evaluate(x_test, y_test)\n",
        "print(f\"Loss: {loss}\")"
      ],
      "execution_count": 19
    },
    {
      "cell_type": "markdown",
      "metadata": {
        "id": "471bbfa9-c4d7-4370-808d-6f9414419a21"
      },
      "source": [
        "<details>\n",
        "    <summary>Click here for Solution</summary>\n",
        "\n",
        "```python\n",
        "\n",
        "# Define a custom layer with 128 units\n",
        "class CustomDenseLayer(Layer):\n",
        "    def __init__(self, units=128):\n",
        "        super(CustomDenseLayer, self).__init__()\n",
        "        self.units = units\n",
        "\n",
        "    def build(self, input_shape):\n",
        "        self.w = self.add_weight(shape=(input_shape[-1], self.units),\n",
        "                                 initializer='random_normal',\n",
        "                                 trainable=True)\n",
        "        self.b = self.add_weight(shape=(self.units,),\n",
        "                                 initializer='zeros',\n",
        "                                 trainable=True)\n",
        "\n",
        "    def call(self, inputs):\n",
        "        return tf.nn.relu(tf.matmul(inputs, self.w) + self.b)\n",
        "\n",
        "# Integrate the new custom layer into a model\n",
        "model = Sequential([\n",
        "    CustomDenseLayer(128),\n",
        "    CustomDenseLayer(10)\n",
        "])\n",
        "\n",
        "# Recompile the model\n",
        "model.compile(optimizer='adam', loss='categorical_crossentropy')\n",
        "\n",
        "# Train the model again\n",
        "model.fit(x_train, y_train, epochs=10, batch_size=32)\n",
        " ```   \n",
        "\n",
        "</details>\n"
      ]
    },
    {
      "cell_type": "markdown",
      "metadata": {
        "id": "edcd0726-f997-4f8a-893a-b2d8e256b6d4"
      },
      "source": [
        "### Summary\n",
        "\n",
        "By completing these exercises, students will:\n",
        "\n",
        "1. Visualize the architecture of their custom Keras model.\n",
        "2. Understand the impact of adding Dropout layers to prevent overfitting.\n",
        "3. Experiment with different configurations of the custom dense layer to observe performance changes.\n"
      ]
    },
    {
      "cell_type": "markdown",
      "metadata": {
        "id": "00cfcca6-2821-4999-9aa4-da4cce4c2059"
      },
      "source": [
        "## Conclusion\n",
        "\n",
        "Congratulations! You have successfully created and trained a custom layer in Keras. This lab exercise demonstrated how to extend Keras’s capabilities by creating custom layers and integrating them into a model.\n"
      ]
    },
    {
      "cell_type": "code",
      "metadata": {
        "id": "007b5782-6dc9-4a5a-9a20-1084c8051c47"
      },
      "outputs": [],
      "source": [
        "Copyright © IBM Corporation. All rights reserved."
      ],
      "execution_count": null
    }
  ],
  "metadata": {
    "kernelspec": {
      "display_name": "Python 3",
      "name": "python3"
    },
    "language_info": {
      "name": "python",
      "version": "3.12.8",
      "mimetype": "text/x-python",
      "codemirror_mode": {
        "name": "ipython",
        "version": 3
      },
      "pygments_lexer": "ipython3",
      "nbconvert_exporter": "python",
      "file_extension": ".py"
    },
    "prev_pub_hash": "77ffccc5c929015cf9779774debc2074e0d2ffe990bf963198d05886397f6869",
    "colab": {
      "provenance": [],
      "gpuType": "T4"
    },
    "accelerator": "GPU"
  },
  "nbformat": 4,
  "nbformat_minor": 0
}