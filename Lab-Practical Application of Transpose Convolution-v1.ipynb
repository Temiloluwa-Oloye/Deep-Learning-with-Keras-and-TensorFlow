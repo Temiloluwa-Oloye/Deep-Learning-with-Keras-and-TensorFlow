{
  "cells": [
    {
      "cell_type": "markdown",
      "metadata": {
        "id": "9c881bca-6c46-4611-86ce-7b3bcb69569b"
      },
      "source": [
        "<img src=\"https://cf-courses-data.s3.us.cloud-object-storage.appdomain.cloud/BQm_EV6i0_j80CQZ8vcLvw/SN-web-lightmode.png\" width=300 height=300 />\n"
      ]
    },
    {
      "cell_type": "markdown",
      "metadata": {
        "id": "a75b0aa2-9688-45bc-a32f-e18107618f68"
      },
      "source": [
        "## Lab: Practical Application of Transpose Convolution  \n",
        "\n",
        "**Estimated time needed: 30 minutes**\n",
        "\n",
        "This lab will guide you through creating, training, and evaluating models that use transpose convolution layers for tasks such as image reconstruction.\n",
        "\n",
        "##### Learning objectives:\n",
        "\n",
        "By the end of this lab, you will:\n",
        "\n",
        "- Apply transpose convolution in practical scenarios using Keras.  \n",
        "\n",
        "- Create, compile, train, and evaluate the model\n",
        "\n",
        "- Visualize the results  \n",
        "\n",
        "##### Prerequisites:\n",
        "\n",
        "- Basic understanding of Python programming\n",
        "\n",
        "- Familiarity with convolutional neural network (CNN) concepts\n",
        "\n",
        "- Keras and TensorFlow installed\n",
        "\n",
        "\n"
      ]
    },
    {
      "cell_type": "markdown",
      "metadata": {
        "id": "77af7190-8939-4261-9fd5-8ed2107c767a"
      },
      "source": [
        "#### Steps:\n",
        "**Step 1: Import Necessary Libraries**\n",
        "\n",
        "Before you start, make sure to import the required libraries: TensorFlow and Keras. Keras is included within TensorFlow as `tensorflow.keras`.\n"
      ]
    },
    {
      "cell_type": "code",
      "metadata": {
        "id": "d3b91633-71ec-4f37-b780-e5df21a06f26"
      },
      "outputs": [],
      "source": [
        "import warnings\n",
        "warnings.simplefilter('ignore')\n",
        "\n",
        "# !pip install tensorflow==2.16.2\n",
        "\n",
        "# !pip install matplotlib\n",
        "import tensorflow as tf\n",
        "\n",
        "from tensorflow.keras.models import Model\n",
        "\n",
        "from tensorflow.keras.layers import Input, Conv2D, Conv2DTranspose, UpSampling2D\n",
        "\n",
        "import numpy as np\n",
        "\n",
        "import matplotlib.pyplot as plt"
      ],
      "execution_count": 1
    },
    {
      "cell_type": "markdown",
      "metadata": {
        "id": "64e8b09f-8196-4749-9528-1b2eac4c6fbd"
      },
      "source": [
        "**Explanation:**\n",
        "\n",
        " `tensorflow` is the main library for machine learning in Python.\n",
        "\n",
        "  `Model, Input, Conv2D, and Conv2DTranspose` are used to create and manipulate the layers in your model.\n",
        "\n",
        "  `numpy` and `matplotlib` are used for data manipulation and visualization.\n",
        "\n",
        "\n",
        "**Step 2: Define the Input Layer**\n",
        "\n",
        "You need to define the input shape for your model. For simplicity, let's assume you are working with an input image of size 28x28 with 1 channel (grayscale).\n",
        "\n",
        "\n"
      ]
    },
    {
      "cell_type": "code",
      "metadata": {
        "id": "3158ffae-a251-4fe0-b44c-22418d9850dc"
      },
      "outputs": [],
      "source": [
        "input_layer = Input(shape=(28, 28, 1))"
      ],
      "execution_count": 2
    },
    {
      "cell_type": "markdown",
      "metadata": {
        "id": "3909d538-4225-48de-84d6-0d6b27bc9cb6"
      },
      "source": [
        "**Explanation:**\n",
        "\n",
        "`Input(shape=(28, 28, 1))` creates an input layer that expects 28x28 grayscale images.\n"
      ]
    },
    {
      "cell_type": "markdown",
      "metadata": {
        "id": "2a5fa159-32b2-4212-9e4c-52c550ed330e"
      },
      "source": [
        "**Step 3: Add convolutional and transpose convolutional layers**\n",
        "\n",
        "You will add a convolutional layer to extract features, followed by a transpose convolution layer to reconstruct the image.\n"
      ]
    },
    {
      "cell_type": "code",
      "metadata": {
        "id": "70971d18-94c4-4bc4-98db-44fec150137a"
      },
      "outputs": [],
      "source": [
        "conv_layer = Conv2D(filters=32, kernel_size=(3, 3), activation='relu', padding='same')(input_layer)\n",
        "\n",
        "transpose_conv_layer = Conv2DTranspose(filters=1, kernel_size=(3, 3), activation='sigmoid', padding='same')(conv_layer)\n"
      ],
      "execution_count": 3
    },
    {
      "cell_type": "markdown",
      "metadata": {
        "id": "9c945d9a-fbed-441e-b832-1b568152ab01"
      },
      "source": [
        "**Explanation:**\n",
        "\n",
        "`Conv2D(filters=32, kernel_size=(3, 3), activation='relu', padding='same')` creates a convolution layer with 32 filters.\n",
        "\n",
        "`Conv2DTranspose(filters=1, kernel_size=(3, 3), activation='sigmoid', padding='same')` creates a transpose convolution layer for reconstructing the image.\n",
        "\n",
        "**Step 4: Create the Model**\n",
        "\n",
        "Now, you will create the model by specifying the input and output layers.\n"
      ]
    },
    {
      "cell_type": "code",
      "metadata": {
        "id": "a7721e3d-d330-4417-b060-8b6035666966"
      },
      "outputs": [],
      "source": [
        "model = Model(inputs=input_layer, outputs=transpose_conv_layer)"
      ],
      "execution_count": 4
    },
    {
      "cell_type": "markdown",
      "metadata": {
        "id": "d689f00f-b3d7-4581-a54f-234786dc8c12"
      },
      "source": [
        "**Explanation:**\n",
        "\n",
        "`Model(inputs=input_layer, outputs=transpose_conv_layer)` creates a Keras model that connects the input layer to the output layer through the convolutional and transpose convolutional layers.  \n",
        "\n",
        "**Step 5: Compile the Model**\n",
        "\n",
        "Before training the model, you need to compile it. You will specify the loss function, optimizer, and evaluation metrics.\n"
      ]
    },
    {
      "cell_type": "code",
      "metadata": {
        "id": "6bcd31ef-a1aa-49b3-a7aa-311c63335931"
      },
      "outputs": [],
      "source": [
        "model.compile(optimizer='adam', loss='mean_squared_error')"
      ],
      "execution_count": 5
    },
    {
      "cell_type": "markdown",
      "metadata": {
        "id": "8763d801-887f-42c7-8cfc-f78a74f5ac9f"
      },
      "source": [
        "**Explanation:**\n",
        "\n",
        "- optimizer=`adam` specifies the Adam optimizer.\n",
        "\n",
        "- loss=`binary_crossentropy` specifies the binary cross-entropy loss function, suitable for binary pixel classification.  \n"
      ]
    },
    {
      "cell_type": "markdown",
      "metadata": {
        "id": "0f9c22ea-0f16-4d12-8ecd-16be25e4c221"
      },
      "source": [
        "**Step 6: Train the Model**\n",
        "\n",
        "You can now train the model on some training data. For this example, let's assume X_train is our training input data.\n"
      ]
    },
    {
      "cell_type": "code",
      "metadata": {
        "id": "01a7373c-1100-45be-a850-a06fccf4051f",
        "outputId": "1daddabe-9b8c-4c6c-f581-87cc0ff4d91c",
        "colab": {
          "base_uri": "https://localhost:8080/"
        }
      },
      "outputs": [
        {
          "output_type": "stream",
          "name": "stdout",
          "text": [
            "Epoch 1/10\n",
            "\u001b[1m25/25\u001b[0m \u001b[32m━━━━━━━━━━━━━━━━━━━━\u001b[0m\u001b[37m\u001b[0m \u001b[1m3s\u001b[0m 27ms/step - loss: 0.0759 - val_loss: 0.0606\n",
            "Epoch 2/10\n",
            "\u001b[1m25/25\u001b[0m \u001b[32m━━━━━━━━━━━━━━━━━━━━\u001b[0m\u001b[37m\u001b[0m \u001b[1m0s\u001b[0m 5ms/step - loss: 0.0554 - val_loss: 0.0400\n",
            "Epoch 3/10\n",
            "\u001b[1m25/25\u001b[0m \u001b[32m━━━━━━━━━━━━━━━━━━━━\u001b[0m\u001b[37m\u001b[0m \u001b[1m0s\u001b[0m 5ms/step - loss: 0.0354 - val_loss: 0.0228\n",
            "Epoch 4/10\n",
            "\u001b[1m25/25\u001b[0m \u001b[32m━━━━━━━━━━━━━━━━━━━━\u001b[0m\u001b[37m\u001b[0m \u001b[1m0s\u001b[0m 4ms/step - loss: 0.0198 - val_loss: 0.0125\n",
            "Epoch 5/10\n",
            "\u001b[1m25/25\u001b[0m \u001b[32m━━━━━━━━━━━━━━━━━━━━\u001b[0m\u001b[37m\u001b[0m \u001b[1m0s\u001b[0m 5ms/step - loss: 0.0110 - val_loss: 0.0075\n",
            "Epoch 6/10\n",
            "\u001b[1m25/25\u001b[0m \u001b[32m━━━━━━━━━━━━━━━━━━━━\u001b[0m\u001b[37m\u001b[0m \u001b[1m0s\u001b[0m 4ms/step - loss: 0.0069 - val_loss: 0.0053\n",
            "Epoch 7/10\n",
            "\u001b[1m25/25\u001b[0m \u001b[32m━━━━━━━━━━━━━━━━━━━━\u001b[0m\u001b[37m\u001b[0m \u001b[1m0s\u001b[0m 4ms/step - loss: 0.0049 - val_loss: 0.0041\n",
            "Epoch 8/10\n",
            "\u001b[1m25/25\u001b[0m \u001b[32m━━━━━━━━━━━━━━━━━━━━\u001b[0m\u001b[37m\u001b[0m \u001b[1m0s\u001b[0m 5ms/step - loss: 0.0040 - val_loss: 0.0034\n",
            "Epoch 9/10\n",
            "\u001b[1m25/25\u001b[0m \u001b[32m━━━━━━━━━━━━━━━━━━━━\u001b[0m\u001b[37m\u001b[0m \u001b[1m0s\u001b[0m 6ms/step - loss: 0.0033 - val_loss: 0.0029\n",
            "Epoch 10/10\n",
            "\u001b[1m25/25\u001b[0m \u001b[32m━━━━━━━━━━━━━━━━━━━━\u001b[0m\u001b[37m\u001b[0m \u001b[1m0s\u001b[0m 5ms/step - loss: 0.0028 - val_loss: 0.0025\n"
          ]
        }
      ],
      "source": [
        "# Generate synthetic training data\n",
        "\n",
        "X_train = np.random.rand(1000, 28, 28, 1)\n",
        "\n",
        "y_train = X_train # For reconstruction, the target is the input\n",
        "\n",
        "history = model.fit(X_train, y_train, epochs=10, batch_size=32, validation_split=0.2)"
      ],
      "execution_count": 6
    },
    {
      "cell_type": "markdown",
      "metadata": {
        "id": "bd24e75c-5f4f-4879-b47d-d007fabcf142"
      },
      "source": [
        "**Explanation:**\n",
        "\n",
        "- X_train is a placeholder for your actual training data.\n",
        "\n",
        "- y_train is the same as X_train for image reconstruction.\n",
        "\n",
        "- model.fit trains the model for a specified number of epochs and batch size.\n",
        "\n",
        "  \n",
        "**Step 7: Evaluate the Model**\n",
        "\n",
        "After training, you can evaluate the model on test data to see how well it performs.\n"
      ]
    },
    {
      "cell_type": "code",
      "metadata": {
        "id": "5bfb6b94-04a1-4cc2-bbe4-63852813a6c9",
        "outputId": "23a7411b-be40-4229-d62a-de102fb93f9b",
        "colab": {
          "base_uri": "https://localhost:8080/"
        }
      },
      "outputs": [
        {
          "output_type": "stream",
          "name": "stdout",
          "text": [
            "\u001b[1m7/7\u001b[0m \u001b[32m━━━━━━━━━━━━━━━━━━━━\u001b[0m\u001b[37m\u001b[0m \u001b[1m0s\u001b[0m 4ms/step - loss: 0.0025 \n",
            "Test loss: 0.002508332720026374\n"
          ]
        }
      ],
      "source": [
        " # Generate synthetic test data\n",
        "\n",
        "X_test = np.random.rand(200, 28, 28, 1)\n",
        "\n",
        "y_test = X_test\n",
        "\n",
        "loss = model.evaluate(X_test, y_test)\n",
        "\n",
        "print(f'Test loss: {loss}')"
      ],
      "execution_count": 7
    },
    {
      "cell_type": "markdown",
      "metadata": {
        "id": "b342c4a7-f41e-421f-847c-7fef83f49d8b"
      },
      "source": [
        "**Explanation:**\n",
        "\n",
        "`X_test` and `y_test` are placeholders for your actual test data.\n",
        "\n",
        "`model.evaluate` computes the loss of the model on test data. .\n",
        "\n",
        "**Step 8: Visualize the Results**\n",
        "\n",
        "To better understand the model's performance, let's visualize some reconstructed images.  \n"
      ]
    },
    {
      "cell_type": "code",
      "metadata": {
        "id": "ab59d309-a26b-4dfb-99ea-b6e134eca03f",
        "outputId": "86ca9508-951a-4498-fc17-ad76ab7fb760",
        "colab": {
          "base_uri": "https://localhost:8080/",
          "height": 326
        }
      },
      "outputs": [
        {
          "output_type": "stream",
          "name": "stdout",
          "text": [
            "\u001b[1m7/7\u001b[0m \u001b[32m━━━━━━━━━━━━━━━━━━━━\u001b[0m\u001b[37m\u001b[0m \u001b[1m0s\u001b[0m 27ms/step\n"
          ]
        },
        {
          "output_type": "display_data",
          "data": {
            "text/plain": [
              "<Figure size 2000x400 with 20 Axes>"
            ],
            "image/png": "[encoded data removed]"
          },
          "metadata": {}
        }
      ],
      "source": [
        "# Predict on test data\n",
        "y_pred = model.predict(X_test)\n",
        "\n",
        "# Plot some sample images\n",
        "\n",
        "n = 10 # Number of samples to display\n",
        "\n",
        "plt.figure(figsize=(20, 4))\n",
        "\n",
        "for i in range(n):\n",
        "\n",
        "    # Display original\n",
        "    ax = plt.subplot(2, n, i + 1)\n",
        "    plt.imshow(X_test[i].reshape(28, 28), cmap='gray')\n",
        "    plt.title(\"Original\")\n",
        "    plt.axis('off')\n",
        "    # Display reconstruction\n",
        "    ax = plt.subplot(2, n, i + 1 + n)\n",
        "    plt.imshow(y_pred[i].reshape(28, 28), cmap='gray')\n",
        "    plt.title(\"Reconstructed\")\n",
        "    plt.axis('off')\n",
        "\n",
        "plt.show()"
      ],
      "execution_count": 8
    },
    {
      "cell_type": "markdown",
      "metadata": {
        "id": "c467136a-45db-46ca-b27c-4f937fb371ce"
      },
      "source": [
        "**Explanation:**\n",
        "\n",
        "`model.predict` generates predictions for the test data.\n",
        "\n",
        "`plt.imshow` visualizes the original and reconstructed images side by side for comparison.\n"
      ]
    },
    {
      "cell_type": "markdown",
      "metadata": {
        "id": "cb39484b-6acd-4a40-a0ff-30970ae846c5"
      },
      "source": [
        "### Practice exercises\n"
      ]
    },
    {
      "cell_type": "markdown",
      "metadata": {
        "id": "432aba56-8173-4e58-89ff-76353cb3bd0b"
      },
      "source": [
        "#### Exercise 1: Experiment with Different Kernel Sizes\n",
        "\n",
        "**Objective:** Understand the impact of different kernel sizes on the model's performance.\n",
        "\n",
        "**Instructions:**\n",
        "1. Modify the kernel size of the `Conv2D` and `Conv2DTranspose` layers.\n",
        "2. Recompile, train, and evaluate the model.\n",
        "3. Observe and record the differences in performance.\n"
      ]
    },
    {
      "cell_type": "code",
      "metadata": {
        "id": "3cf96c3e-c3c4-4ad5-8b9f-630c25fe0a4f",
        "outputId": "e38add10-8e41-47bc-cb57-1c03472cb763",
        "colab": {
          "base_uri": "https://localhost:8080/"
        }
      },
      "outputs": [
        {
          "output_type": "stream",
          "name": "stdout",
          "text": [
            "Epoch 1/10\n",
            "\u001b[1m25/25\u001b[0m \u001b[32m━━━━━━━━━━━━━━━━━━━━\u001b[0m\u001b[37m\u001b[0m \u001b[1m2s\u001b[0m 28ms/step - loss: 0.0766 - val_loss: 0.0517\n",
            "Epoch 2/10\n",
            "\u001b[1m25/25\u001b[0m \u001b[32m━━━━━━━━━━━━━━━━━━━━\u001b[0m\u001b[37m\u001b[0m \u001b[1m0s\u001b[0m 5ms/step - loss: 0.0442 - val_loss: 0.0247\n",
            "Epoch 3/10\n",
            "\u001b[1m25/25\u001b[0m \u001b[32m━━━━━━━━━━━━━━━━━━━━\u001b[0m\u001b[37m\u001b[0m \u001b[1m0s\u001b[0m 5ms/step - loss: 0.0205 - val_loss: 0.0110\n",
            "Epoch 4/10\n",
            "\u001b[1m25/25\u001b[0m \u001b[32m━━━━━━━━━━━━━━━━━━━━\u001b[0m\u001b[37m\u001b[0m \u001b[1m0s\u001b[0m 5ms/step - loss: 0.0094 - val_loss: 0.0061\n",
            "Epoch 5/10\n",
            "\u001b[1m25/25\u001b[0m \u001b[32m━━━━━━━━━━━━━━━━━━━━\u001b[0m\u001b[37m\u001b[0m \u001b[1m0s\u001b[0m 5ms/step - loss: 0.0056 - val_loss: 0.0045\n",
            "Epoch 6/10\n",
            "\u001b[1m25/25\u001b[0m \u001b[32m━━━━━━━━━━━━━━━━━━━━\u001b[0m\u001b[37m\u001b[0m \u001b[1m0s\u001b[0m 4ms/step - loss: 0.0043 - val_loss: 0.0037\n",
            "Epoch 7/10\n",
            "\u001b[1m25/25\u001b[0m \u001b[32m━━━━━━━━━━━━━━━━━━━━\u001b[0m\u001b[37m\u001b[0m \u001b[1m0s\u001b[0m 5ms/step - loss: 0.0036 - val_loss: 0.0032\n",
            "Epoch 8/10\n",
            "\u001b[1m25/25\u001b[0m \u001b[32m━━━━━━━━━━━━━━━━━━━━\u001b[0m\u001b[37m\u001b[0m \u001b[1m0s\u001b[0m 4ms/step - loss: 0.0031 - val_loss: 0.0028\n",
            "Epoch 9/10\n",
            "\u001b[1m25/25\u001b[0m \u001b[32m━━━━━━━━━━━━━━━━━━━━\u001b[0m\u001b[37m\u001b[0m \u001b[1m0s\u001b[0m 4ms/step - loss: 0.0027 - val_loss: 0.0025\n",
            "Epoch 10/10\n",
            "\u001b[1m25/25\u001b[0m \u001b[32m━━━━━━━━━━━━━━━━━━━━\u001b[0m\u001b[37m\u001b[0m \u001b[1m0s\u001b[0m 4ms/step - loss: 0.0024 - val_loss: 0.0023\n",
            "\u001b[1m7/7\u001b[0m \u001b[32m━━━━━━━━━━━━━━━━━━━━\u001b[0m\u001b[37m\u001b[0m \u001b[1m0s\u001b[0m 4ms/step - loss: 0.0023 \n",
            "Test Loss: 0.0022992570884525776\n"
          ]
        }
      ],
      "source": [
        "# Write your code here\n",
        "input_layer = Input(shape=(28,28,1))\n",
        "conv_layer = Conv2D(filters=32, kernel_size=(4,4), padding='same', activation='relu')(input_layer)\n",
        "transpose_conv_layer = Conv2DTranspose(filters=1, kernel_size=(4,4), padding='same', activation='sigmoid')(conv_layer)\n",
        "\n",
        "model = Model(inputs= input_layer, outputs=transpose_conv_layer)\n",
        "model.compile(optimizer='adam', loss='mean_squared_error')\n",
        "history = model.fit(X_train, y_train, batch_size=32, epochs=10, validation_split=0.2)\n",
        "\n",
        "loss = model.evaluate(X_test, y_test)\n",
        "print(f\"Test Loss: {loss}\")\n"
      ],
      "execution_count": 9
    },
    {
      "cell_type": "markdown",
      "metadata": {
        "id": "8c42aac5-bbdc-4fa3-920b-416cf9c25625"
      },
      "source": [
        "<details>\n",
        "<summary>Click here for solution</summary> </br>\n",
        "\n",
        "```python\n",
        "from tensorflow.keras.layers import Dropout, Conv2D, Conv2DTranspose, Input\n",
        "from tensorflow.keras.models import Model\n",
        "\n",
        "# Define the input layer\n",
        "input_layer = Input(shape=(28, 28, 1))\n",
        "\n",
        "# Add convolutional and transpose convolutional layers with different kernel sizes\n",
        "conv_layer = Conv2D(filters=32, kernel_size=(5, 5), activation='relu', padding='same')(input_layer)\n",
        "transpose_conv_layer = Conv2DTranspose(filters=1, kernel_size=(5, 5), activation='sigmoid', padding='same')(conv_layer)\n",
        "\n",
        "# Create the model\n",
        "model = Model(inputs=input_layer, outputs=transpose_conv_layer)\n",
        "\n",
        "# Compile the model\n",
        "model.compile(optimizer='adam', loss='mean_squared_error')\n",
        "\n",
        "# Train the model\n",
        "history = model.fit(X_train, y_train, epochs=10, batch_size=32, validation_split=0.2)\n",
        "\n",
        "# Evaluate the model\n",
        "loss = model.evaluate(X_test, y_test)\n",
        "print(f'Test loss: {loss}')\n"
      ]
    },
    {
      "cell_type": "markdown",
      "metadata": {
        "id": "9d75186d-a661-4bf1-b7bb-d86db5cd4551"
      },
      "source": [
        "#### Exercise 2: Add Dropout Layers\n",
        "\n",
        "**Objective:** Add dropout layers to prevent overfitting.\n",
        "\n",
        "**Instructions:**\n",
        "1. Add dropout layers after the convolutional layer.\n",
        "2. Set the dropout rate to 0.5.\n",
        "3. Recompile, train, and evaluate the model.\n"
      ]
    },
    {
      "cell_type": "code",
      "metadata": {
        "id": "11e48300-8198-42aa-98d1-f32b97ef6dfb",
        "outputId": "0c208fdb-e63d-4057-fcc9-3bcb6c39ea29",
        "colab": {
          "base_uri": "https://localhost:8080/"
        }
      },
      "outputs": [
        {
          "output_type": "stream",
          "name": "stdout",
          "text": [
            "Epoch 1/10\n",
            "\u001b[1m25/25\u001b[0m \u001b[32m━━━━━━━━━━━━━━━━━━━━\u001b[0m\u001b[37m\u001b[0m \u001b[1m2s\u001b[0m 24ms/step - loss: 0.0802 - val_loss: 0.0567\n",
            "Epoch 2/10\n",
            "\u001b[1m25/25\u001b[0m \u001b[32m━━━━━━━━━━━━━━━━━━━━\u001b[0m\u001b[37m\u001b[0m \u001b[1m0s\u001b[0m 5ms/step - loss: 0.0515 - val_loss: 0.0296\n",
            "Epoch 3/10\n",
            "\u001b[1m25/25\u001b[0m \u001b[32m━━━━━━━━━━━━━━━━━━━━\u001b[0m\u001b[37m\u001b[0m \u001b[1m0s\u001b[0m 5ms/step - loss: 0.0294 - val_loss: 0.0139\n",
            "Epoch 4/10\n",
            "\u001b[1m25/25\u001b[0m \u001b[32m━━━━━━━━━━━━━━━━━━━━\u001b[0m\u001b[37m\u001b[0m \u001b[1m0s\u001b[0m 5ms/step - loss: 0.0177 - val_loss: 0.0083\n",
            "Epoch 5/10\n",
            "\u001b[1m25/25\u001b[0m \u001b[32m━━━━━━━━━━━━━━━━━━━━\u001b[0m\u001b[37m\u001b[0m \u001b[1m0s\u001b[0m 5ms/step - loss: 0.0134 - val_loss: 0.0062\n",
            "Epoch 6/10\n",
            "\u001b[1m25/25\u001b[0m \u001b[32m━━━━━━━━━━━━━━━━━━━━\u001b[0m\u001b[37m\u001b[0m \u001b[1m0s\u001b[0m 5ms/step - loss: 0.0116 - val_loss: 0.0052\n",
            "Epoch 7/10\n",
            "\u001b[1m25/25\u001b[0m \u001b[32m━━━━━━━━━━━━━━━━━━━━\u001b[0m\u001b[37m\u001b[0m \u001b[1m0s\u001b[0m 5ms/step - loss: 0.0106 - val_loss: 0.0046\n",
            "Epoch 8/10\n",
            "\u001b[1m25/25\u001b[0m \u001b[32m━━━━━━━━━━━━━━━━━━━━\u001b[0m\u001b[37m\u001b[0m \u001b[1m0s\u001b[0m 5ms/step - loss: 0.0099 - val_loss: 0.0042\n",
            "Epoch 9/10\n",
            "\u001b[1m25/25\u001b[0m \u001b[32m━━━━━━━━━━━━━━━━━━━━\u001b[0m\u001b[37m\u001b[0m \u001b[1m0s\u001b[0m 7ms/step - loss: 0.0094 - val_loss: 0.0038\n",
            "Epoch 10/10\n",
            "\u001b[1m25/25\u001b[0m \u001b[32m━━━━━━━━━━━━━━━━━━━━\u001b[0m\u001b[37m\u001b[0m \u001b[1m0s\u001b[0m 6ms/step - loss: 0.0090 - val_loss: 0.0035\n",
            "\u001b[1m7/7\u001b[0m \u001b[32m━━━━━━━━━━━━━━━━━━━━\u001b[0m\u001b[37m\u001b[0m \u001b[1m0s\u001b[0m 7ms/step - loss: 0.0035 \n",
            "Test Loss: 0.0034924002829939127\n"
          ]
        }
      ],
      "source": [
        "# Write your code here\n",
        "from tensorflow.keras.layers import Dropout\n",
        "input_layer = Input(shape=(28,28,1))\n",
        "conv_layer = Conv2D(filters=32, kernel_size=(4,4), padding='same', activation='relu')(input_layer)\n",
        "dropout_layer = Dropout(rate = 0.5)(conv_layer)\n",
        "transpose_conv_layer = Conv2DTranspose(filters=1, kernel_size=(4,4), padding='same', activation='sigmoid')(dropout_layer)\n",
        "\n",
        "model = Model(inputs= input_layer, outputs=transpose_conv_layer)\n",
        "model.compile(optimizer='adam', loss='mean_squared_error')\n",
        "history = model.fit(X_train, y_train, batch_size=32, epochs=10, validation_split=0.2)\n",
        "\n",
        "loss = model.evaluate(X_test, y_test)\n",
        "print(f\"Test Loss: {loss}\")\n"
      ],
      "execution_count": 10
    },
    {
      "cell_type": "markdown",
      "metadata": {
        "id": "73bd9cd0-9324-4190-b699-42bce2f78492"
      },
      "source": [
        "<details>\n",
        "<summary>Click here for solution</summary> </br>\n",
        "\n",
        "```python\n",
        "from tensorflow.keras.layers import Dropout, Conv2D, Conv2DTranspose, Input\n",
        "from tensorflow.keras.models import Model\n",
        "\n",
        "# Define the input layer\n",
        "input_layer = Input(shape=(28, 28, 1))\n",
        "\n",
        "# Add convolutional, dropout, and transpose convolutional layers\n",
        "conv_layer = Conv2D(filters=32, kernel_size=(3, 3), activation='relu', padding='same')(input_layer)\n",
        "dropout_layer = Dropout(0.5)(conv_layer)\n",
        "transpose_conv_layer = Conv2DTranspose(filters=1, kernel_size=(3, 3), activation='sigmoid', padding='same')(dropout_layer)\n",
        "\n",
        "# Create the model\n",
        "model = Model(inputs=input_layer, outputs=transpose_conv_layer)\n",
        "\n",
        "# Compile the model\n",
        "model.compile(optimizer='adam', loss='mean_squared_error')\n",
        "\n",
        "# Train the model\n",
        "history = model.fit(X_train, y_train, epochs=10, batch_size=32, validation_split=0.2)\n",
        "\n",
        "# Evaluate the model\n",
        "loss = model.evaluate(X_test, y_test)\n",
        "print(f'Test loss: {loss}')\n"
      ]
    },
    {
      "cell_type": "markdown",
      "metadata": {
        "id": "1c18e97e-cb0b-4111-9459-209c0adb924f"
      },
      "source": [
        "#### Exercise 3: Use Different Activation Functions\n",
        "\n",
        "**Objective:** Experiment with different activation functions and observe their impact on model performance.\n",
        "\n",
        "**Instructions:**\n",
        "1. Change the activation function of the convolutional and transpose convolutional layers to `tanh`.\n",
        "2. Recompile, train, and evaluate the model.\n"
      ]
    },
    {
      "cell_type": "code",
      "metadata": {
        "id": "bee2227c-63e3-4aae-b732-b1fcc4b633e5",
        "outputId": "7b46287a-fdd6-4211-d912-72b46afcaea5",
        "colab": {
          "base_uri": "https://localhost:8080/"
        }
      },
      "outputs": [
        {
          "output_type": "stream",
          "name": "stdout",
          "text": [
            "Epoch 1/10\n",
            "\u001b[1m25/25\u001b[0m \u001b[32m━━━━━━━━━━━━━━━━━━━━\u001b[0m\u001b[37m\u001b[0m \u001b[1m2s\u001b[0m 29ms/step - loss: 0.2146 - val_loss: 0.0599\n",
            "Epoch 2/10\n",
            "\u001b[1m25/25\u001b[0m \u001b[32m━━━━━━━━━━━━━━━━━━━━\u001b[0m\u001b[37m\u001b[0m \u001b[1m0s\u001b[0m 10ms/step - loss: 0.0515 - val_loss: 0.0296\n",
            "Epoch 3/10\n",
            "\u001b[1m25/25\u001b[0m \u001b[32m━━━━━━━━━━━━━━━━━━━━\u001b[0m\u001b[37m\u001b[0m \u001b[1m0s\u001b[0m 15ms/step - loss: 0.0248 - val_loss: 0.0143\n",
            "Epoch 4/10\n",
            "\u001b[1m25/25\u001b[0m \u001b[32m━━━━━━━━━━━━━━━━━━━━\u001b[0m\u001b[37m\u001b[0m \u001b[1m1s\u001b[0m 21ms/step - loss: 0.0125 - val_loss: 0.0087\n",
            "Epoch 5/10\n",
            "\u001b[1m25/25\u001b[0m \u001b[32m━━━━━━━━━━━━━━━━━━━━\u001b[0m\u001b[37m\u001b[0m \u001b[1m1s\u001b[0m 15ms/step - loss: 0.0080 - val_loss: 0.0065\n",
            "Epoch 6/10\n",
            "\u001b[1m25/25\u001b[0m \u001b[32m━━━━━━━━━━━━━━━━━━━━\u001b[0m\u001b[37m\u001b[0m \u001b[1m0s\u001b[0m 9ms/step - loss: 0.0062 - val_loss: 0.0055\n",
            "Epoch 7/10\n",
            "\u001b[1m25/25\u001b[0m \u001b[32m━━━━━━━━━━━━━━━━━━━━\u001b[0m\u001b[37m\u001b[0m \u001b[1m0s\u001b[0m 8ms/step - loss: 0.0054 - val_loss: 0.0050\n",
            "Epoch 8/10\n",
            "\u001b[1m25/25\u001b[0m \u001b[32m━━━━━━━━━━━━━━━━━━━━\u001b[0m\u001b[37m\u001b[0m \u001b[1m0s\u001b[0m 8ms/step - loss: 0.0049 - val_loss: 0.0047\n",
            "Epoch 9/10\n",
            "\u001b[1m25/25\u001b[0m \u001b[32m━━━━━━━━━━━━━━━━━━━━\u001b[0m\u001b[37m\u001b[0m \u001b[1m0s\u001b[0m 10ms/step - loss: 0.0047 - val_loss: 0.0045\n",
            "Epoch 10/10\n",
            "\u001b[1m25/25\u001b[0m \u001b[32m━━━━━━━━━━━━━━━━━━━━\u001b[0m\u001b[37m\u001b[0m \u001b[1m0s\u001b[0m 13ms/step - loss: 0.0045 - val_loss: 0.0044\n",
            "\u001b[1m7/7\u001b[0m \u001b[32m━━━━━━━━━━━━━━━━━━━━\u001b[0m\u001b[37m\u001b[0m \u001b[1m0s\u001b[0m 7ms/step - loss: 0.0044 \n",
            "Test Loss: 0.004384100437164307\n"
          ]
        }
      ],
      "source": [
        "# Write your code here\n",
        "input_layer = Input(shape=(28,28,1))\n",
        "conv_layer = Conv2D(filters=32, kernel_size=(4,4), padding='same', activation='tanh')(input_layer)\n",
        "transpose_conv_layer = Conv2DTranspose(filters=1, kernel_size=(4,4), padding='same', activation='tanh')(conv_layer)\n",
        "\n",
        "model = Model(inputs= input_layer, outputs=transpose_conv_layer)\n",
        "model.compile(optimizer='adam', loss='mean_squared_error')\n",
        "history = model.fit(X_train, y_train, batch_size=32, epochs=10, validation_split=0.2)\n",
        "\n",
        "loss = model.evaluate(X_test, y_test)\n",
        "print(f\"Test Loss: {loss}\")\n"
      ],
      "execution_count": 11
    },
    {
      "cell_type": "markdown",
      "metadata": {
        "id": "0b813568-f912-4ac2-824d-d7f67aaed3a3"
      },
      "source": [
        "<details>\n",
        "<summary>Click here for solution</summary> </br>\n",
        "\n",
        "```python\n",
        "\n",
        "from tensorflow.keras.layers import Conv2D, Conv2DTranspose, Input\n",
        "from tensorflow.keras.models import Model\n",
        "\n",
        "# Define the input layer\n",
        "input_layer = Input(shape=(28, 28, 1))\n",
        "\n",
        "# Add convolutional and transpose convolutional layers with different activation functions\n",
        "conv_layer = Conv2D(filters=32, kernel_size=(3, 3), activation='tanh', padding='same')(input_layer)\n",
        "transpose_conv_layer = Conv2DTranspose(filters=1, kernel_size=(3, 3), activation='tanh', padding='same')(conv_layer)\n",
        "\n",
        "# Create the model\n",
        "model = Model(inputs=input_layer, outputs=transpose_conv_layer)\n",
        "\n",
        "# Compile the model\n",
        "model.compile(optimizer='adam', loss='mean_squared_error')\n",
        "\n",
        "# Train the model\n",
        "history = model.fit(X_train, y_train, epochs=10, batch_size=32, validation_split=0.2)\n",
        "\n",
        "# Evaluate the model\n",
        "loss = model.evaluate(X_test, y_test)\n",
        "print(f'Test loss: {loss}')\n",
        "\n"
      ]
    },
    {
      "cell_type": "markdown",
      "metadata": {
        "id": "d4e80da6-ee6e-472a-a0db-ff3fd93ec0c6"
      },
      "source": [
        "### Conclusion:\n",
        "\n",
        "By completing this lab, you have successfully created, trained, and evaluated a simple neural network model using transpose convolution for image reconstruction. This exercise provided hands-on experience with Keras and practical applications of transpose convolution layers. Continue experimenting with different architectures and datasets to deepen your understanding and skills in deep learning with Keras.\n"
      ]
    },
    {
      "cell_type": "markdown",
      "metadata": {
        "id": "5c64eccd-38a6-40d3-809b-6dad8372c379"
      },
      "source": [
        "Copyright © IBM Corporation. All rights reserved.\n"
      ]
    },
    {
      "cell_type": "code",
      "metadata": {
        "id": "5b46d981-cdd9-4169-818b-7f2a26243321"
      },
      "outputs": [],
      "source": [],
      "execution_count": null
    }
  ],
  "metadata": {
    "kernelspec": {
      "display_name": "Python 3",
      "name": "python3"
    },
    "language_info": {
      "codemirror_mode": {
        "name": "ipython",
        "version": 3
      },
      "file_extension": ".py",
      "mimetype": "text/x-python",
      "name": "python",
      "nbconvert_exporter": "python",
      "pygments_lexer": "ipython3",
      "version": "3.11.9"
    },
    "prev_pub_hash": "f4e363367cd479bedddceddb4f56d5f8d0e79bfaa789aec6b7529054caba9f1a",
    "colab": {
      "provenance": [],
      "gpuType": "T4"
    },
    "accelerator": "GPU"
  },
  "nbformat": 4,
  "nbformat_minor": 0
}